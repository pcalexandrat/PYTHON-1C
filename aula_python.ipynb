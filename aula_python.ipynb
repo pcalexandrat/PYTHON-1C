{
  "nbformat": 4,
  "nbformat_minor": 0,
  "metadata": {
    "colab": {
      "provenance": [],
      "authorship_tag": "ABX9TyO8A89LqnwcHmhwa0G1oHaO",
      "include_colab_link": true
    },
    "kernelspec": {
      "name": "python3",
      "display_name": "Python 3"
    },
    "language_info": {
      "name": "python"
    }
  },
  "cells": [
    {
      "cell_type": "markdown",
      "metadata": {
        "id": "view-in-github",
        "colab_type": "text"
      },
      "source": [
        "<a href=\"https://colab.research.google.com/github/pcalexandrat/PYTHON-1C/blob/main/aula_python.ipynb\" target=\"_parent\"><img src=\"https://colab.research.google.com/assets/colab-badge.svg\" alt=\"Open In Colab\"/></a>"
      ]
    },
    {
      "cell_type": "markdown",
      "source": [
        "Aula 1"
      ],
      "metadata": {
        "id": "mZOZ1cZvyLcF"
      }
    },
    {
      "cell_type": "code",
      "execution_count": null,
      "metadata": {
        "id": "3_lBdYnwx-lx",
        "colab": {
          "base_uri": "https://localhost:8080/"
        },
        "outputId": "0e7684b4-7947-471c-c072-24de630cc4e2"
      },
      "outputs": [
        {
          "output_type": "stream",
          "name": "stdout",
          "text": [
            "I competição de programação dá Start\n",
            "IX competição de programação da Start\n",
            "IX competição de programação da Start\n"
          ]
        }
      ],
      "source": [
        "print(\"I competição de programação dá Start\")\n",
        "ano = \"IX\"\n",
        "print(ano, \"competição de programação da Start\")\n",
        "print(f\"{ano} competição de programação da Start\")"
      ]
    },
    {
      "cell_type": "markdown",
      "source": [
        "aula2"
      ],
      "metadata": {
        "id": "8cH2KLNg01ct"
      }
    },
    {
      "cell_type": "code",
      "source": [
        "livro_ficcao = 8\n",
        "livro_n_ficcao = 10\n",
        "livro_infantil = 6\n",
        "pontos_rodrigo = livro_ficcao + livro_n_ficcao + livro_infantil\n",
        "print(f\"Os pontos totais do Rodrigo são {pontos_rodrigo}\")"
      ],
      "metadata": {
        "colab": {
          "base_uri": "https://localhost:8080/"
        },
        "id": "TuyfIDYW09x5",
        "outputId": "4c64a518-d850-46dc-bc4f-12489c45e760"
      },
      "execution_count": null,
      "outputs": [
        {
          "output_type": "stream",
          "name": "stdout",
          "text": [
            "Os pontos totais do Rodrigo são 24\n"
          ]
        }
      ]
    },
    {
      "cell_type": "markdown",
      "source": [
        "#**Aula** 3    💯    ✨    🙋\n",
        "\n"
      ],
      "metadata": {
        "id": "6VCsWrT_u4Pv"
      }
    },
    {
      "cell_type": "code",
      "source": [
        "numero_de_alunos = int(input(\"Digite a quantidade de alunos: \"))\n",
        "numero_de_monitores = int(input(\"Digite a quantidade de monitores: \"))\n",
        "numero_de_professores = 8\n",
        "if numero_de_alunos + numero_de_monitores + numero_de_professores <= 50:\n",
        "  resposta_positiva = \"pode ir\"\n",
        "resposta_negativa = \"não pode ir\"\n",
        "if numero_de_alunos + numero_de_monitores + numero_de_professores  <= 50:\n",
        "  print(resposta_positiva)\n",
        "else:\n",
        "  print(resposta_negativa)"
      ],
      "metadata": {
        "colab": {
          "base_uri": "https://localhost:8080/"
        },
        "id": "TtYBXy8JwNHr",
        "outputId": "f4496701-a187-4004-d7ec-c0e8eefa6e86"
      },
      "execution_count": null,
      "outputs": [
        {
          "output_type": "stream",
          "name": "stdout",
          "text": [
            "Digite a quantidade de alunos: 30\n",
            "Digite a quantidade de monitores: 20\n",
            "não pode ir\n"
          ]
        }
      ]
    },
    {
      "cell_type": "markdown",
      "source": [
        "aula 4"
      ],
      "metadata": {
        "id": "CPnB6H1T2XuZ"
      }
    },
    {
      "cell_type": "code",
      "source": [
        "P = int(input(\"Digite a posição da porta P (0 ou 1): \"))\n",
        "R = int(input(\"Digite a posição da porta R (0 ou 1): \"))\n",
        "if P == 0:\n",
        "    print(\"C\")\n",
        "elif R == 1:\n",
        "    print(\"A\")\n",
        "else:\n",
        "    print(\"B\")\n"
      ],
      "metadata": {
        "colab": {
          "base_uri": "https://localhost:8080/"
        },
        "id": "vZUB8ucD2Y_i",
        "outputId": "2b0303f1-666a-4c40-e541-5394a294840f"
      },
      "execution_count": null,
      "outputs": [
        {
          "output_type": "stream",
          "name": "stdout",
          "text": [
            "Digite a posição da porta P (0 ou 1): 3\n",
            "Digite a posição da porta R (0 ou 1): 6\n",
            "B\n"
          ]
        }
      ]
    },
    {
      "cell_type": "markdown",
      "source": [
        "#Aula 5 🕥  😎  🧭   tabuada"
      ],
      "metadata": {
        "id": "6Q5_HJf66uEm"
      }
    },
    {
      "cell_type": "code",
      "source": [
        "def tabuada(numero):\n",
        "    for contador in range(1, 11):  # Gera números de 1 a 10\n",
        "        print(f\"{numero} x {contador} = {numero * contador}\")\n",
        "numero = int(input(\"Digite um número para ver sua tabuada: \"))\n",
        "tabuada(numero)"
      ],
      "metadata": {
        "colab": {
          "base_uri": "https://localhost:8080/"
        },
        "id": "NRO6EtEa6onn",
        "outputId": "309d4a68-952f-49bd-833d-ff2ec301daf8"
      },
      "execution_count": null,
      "outputs": [
        {
          "output_type": "stream",
          "name": "stdout",
          "text": [
            "Digite um número para ver sua tabuada: 35\n",
            "35 x 1 = 35\n",
            "35 x 2 = 70\n",
            "35 x 3 = 105\n",
            "35 x 4 = 140\n",
            "35 x 5 = 175\n",
            "35 x 6 = 210\n",
            "35 x 7 = 245\n",
            "35 x 8 = 280\n",
            "35 x 9 = 315\n",
            "35 x 10 = 350\n"
          ]
        }
      ]
    },
    {
      "cell_type": "markdown",
      "source": [
        "Aula 6 IMC"
      ],
      "metadata": {
        "id": "pLUz-xxL864d"
      }
    },
    {
      "cell_type": "code",
      "source": [
        "peso = float(input(\"Digite seu peso (em kg): \"))\n",
        "altura = float(input(\"Digite sua altura (em metros): \"))\n",
        "imc = peso / (altura **2)\n",
        "print(f\"\\nSeu IMC é: {imc:.2f}\")\n",
        "if imc < 18.5:\n",
        "    print(\"Você está abaixo do peso.\")\n",
        "elif 18.5 <= imc < 25:\n",
        "    print(\"Você está no peso ideal.\")\n",
        "elif 25 <= imc < 30:\n",
        "    print(\"Você está com sobrepeso.\")\n",
        "else:\n",
        "    print(\"Você está acima do peso.\")\n"
      ],
      "metadata": {
        "colab": {
          "base_uri": "https://localhost:8080/"
        },
        "id": "x2CWJX_x89oE",
        "outputId": "311910f6-1063-4c4b-cfda-62f6f3bde62b"
      },
      "execution_count": null,
      "outputs": [
        {
          "output_type": "stream",
          "name": "stdout",
          "text": [
            "Digite seu peso (em kg): 73\n",
            "Digite sua altura (em metros): 1.6\n",
            "\n",
            "Seu IMC é: 28.52\n",
            "Você está com sobrepeso.\n"
          ]
        }
      ]
    },
    {
      "cell_type": "markdown",
      "source": [
        "#Aula 7 💜  * 🐍"
      ],
      "metadata": {
        "id": "cn-NMmr718ro"
      }
    },
    {
      "cell_type": "code",
      "source": [
        "print (\"Sou seu assistente virtual, como posso ajudar? \\n \")\n",
        "nome = input(\"digite seu nome: \")\n",
        "print(\"Olá, \" + nome + \". Qual é sua dúvida hoje?\" )"
      ],
      "metadata": {
        "id": "n_E9Tk1j3BCD"
      },
      "execution_count": null,
      "outputs": []
    },
    {
      "cell_type": "code",
      "source": [
        "print(\"Sou seu assistente virtual, como posso ajudar? \\n \")\n",
        "nome = input(\"digite seu nome: \")\n",
        "print(f\"Olá, {nome}. Qual é sua dúvida hoje?\" )\n",
        "resposta = input(\"Qual o assunto que deseja tratar: Matemática , Python , Javascript \").lower()\n",
        "print(f\"Que bom, {nome}, vamos falar sobre {resposta}\")"
      ],
      "metadata": {
        "id": "qHMKlgeU-U6L"
      },
      "execution_count": null,
      "outputs": []
    }
  ]
}